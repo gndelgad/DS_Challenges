{
 "cells": [
  {
   "cell_type": "markdown",
   "metadata": {},
   "source": [
    "## Loading libraries "
   ]
  },
  {
   "cell_type": "code",
   "execution_count": 1,
   "metadata": {},
   "outputs": [
    {
     "name": "stdout",
     "output_type": "stream",
     "text": [
      "Populating the interactive namespace from numpy and matplotlib\n"
     ]
    },
    {
     "name": "stderr",
     "output_type": "stream",
     "text": [
      "/home/gabriel/.local/lib/python3.5/site-packages/IPython/core/magics/pylab.py:160: UserWarning: pylab import has clobbered these variables: ['plt']\n",
      "`%matplotlib` prevents importing * from pylab and numpy\n",
      "  \"\\n`%matplotlib` prevents importing * from pylab and numpy\"\n"
     ]
    }
   ],
   "source": [
    "import pandas as pd\n",
    "import numpy as np\n",
    "import matplotlib as plt\n",
    "%pylab inline"
   ]
  },
  {
   "cell_type": "markdown",
   "metadata": {},
   "source": [
    "## Loading the dataset "
   ]
  },
  {
   "cell_type": "code",
   "execution_count": 2,
   "metadata": {},
   "outputs": [],
   "source": [
    "path = '/home/gabriel/share/Prestashop/'\n",
    "data = pd.read_csv(path+\"Prestashop_Ready_dataset.csv\")"
   ]
  },
  {
   "cell_type": "markdown",
   "metadata": {},
   "source": [
    "## 1. Data wrangling"
   ]
  },
  {
   "cell_type": "markdown",
   "metadata": {},
   "source": [
    "### 1.a Main statistics "
   ]
  },
  {
   "cell_type": "code",
   "execution_count": 3,
   "metadata": {},
   "outputs": [
    {
     "data": {
      "text/html": [
       "<div>\n",
       "<style scoped>\n",
       "    .dataframe tbody tr th:only-of-type {\n",
       "        vertical-align: middle;\n",
       "    }\n",
       "\n",
       "    .dataframe tbody tr th {\n",
       "        vertical-align: top;\n",
       "    }\n",
       "\n",
       "    .dataframe thead th {\n",
       "        text-align: right;\n",
       "    }\n",
       "</style>\n",
       "<table border=\"1\" class=\"dataframe\">\n",
       "  <thead>\n",
       "    <tr style=\"text-align: right;\">\n",
       "      <th></th>\n",
       "      <th>Merchant_ID</th>\n",
       "      <th>Merchant_Country</th>\n",
       "      <th>Merchant_Language</th>\n",
       "      <th>Merchant_Creation_Timestamp</th>\n",
       "      <th>Merchant_Subscription_Timestamp</th>\n",
       "      <th>Merchant_Days_To_Subscribe</th>\n",
       "      <th>Merchant_Hours_To_Subscribe</th>\n",
       "      <th>Merchant_End_Trial</th>\n",
       "      <th>Merchant_Creation_Year</th>\n",
       "      <th>Merchant_Creation_Month</th>\n",
       "      <th>...</th>\n",
       "      <th>Shop_Bo_Connections_Last_30_Days</th>\n",
       "      <th>Shop_Orders_Count</th>\n",
       "      <th>Shop_Orders_Count_Last_7_Days</th>\n",
       "      <th>Shop_Orders_Count_Last_30_Days</th>\n",
       "      <th>Shop_Last_Order_Date</th>\n",
       "      <th>Shop_Gross_Sales</th>\n",
       "      <th>Shop_Gross_Sales_Last_7_Days</th>\n",
       "      <th>Shop_Gross_Sales_Last_30_Days</th>\n",
       "      <th>Shop_Last_Logo_Change_Date</th>\n",
       "      <th>Shop_Last_Favicon_Change_Date</th>\n",
       "    </tr>\n",
       "  </thead>\n",
       "  <tbody>\n",
       "    <tr>\n",
       "      <th>0</th>\n",
       "      <td>2535</td>\n",
       "      <td>fr</td>\n",
       "      <td>fr</td>\n",
       "      <td>2017-12-11 01:51:08.000000 UTC</td>\n",
       "      <td>NaN</td>\n",
       "      <td>NaN</td>\n",
       "      <td>NaN</td>\n",
       "      <td>2018-01-10</td>\n",
       "      <td>2017</td>\n",
       "      <td>December</td>\n",
       "      <td>...</td>\n",
       "      <td>15.0</td>\n",
       "      <td>0.0</td>\n",
       "      <td>0.0</td>\n",
       "      <td>0.0</td>\n",
       "      <td>NaN</td>\n",
       "      <td>0.0</td>\n",
       "      <td>0.0</td>\n",
       "      <td>0.0</td>\n",
       "      <td>20171212.0</td>\n",
       "      <td>20171212.0</td>\n",
       "    </tr>\n",
       "    <tr>\n",
       "      <th>1</th>\n",
       "      <td>2523</td>\n",
       "      <td>fr</td>\n",
       "      <td>fr</td>\n",
       "      <td>2017-12-07 21:10:47.000000 UTC</td>\n",
       "      <td>2017-12-10 19:07:52.000000 UTC</td>\n",
       "      <td>2.0</td>\n",
       "      <td>69.0</td>\n",
       "      <td>2018-01-06</td>\n",
       "      <td>2017</td>\n",
       "      <td>December</td>\n",
       "      <td>...</td>\n",
       "      <td>41.0</td>\n",
       "      <td>0.0</td>\n",
       "      <td>0.0</td>\n",
       "      <td>0.0</td>\n",
       "      <td>NaN</td>\n",
       "      <td>0.0</td>\n",
       "      <td>0.0</td>\n",
       "      <td>0.0</td>\n",
       "      <td>20171208.0</td>\n",
       "      <td>NaN</td>\n",
       "    </tr>\n",
       "    <tr>\n",
       "      <th>2</th>\n",
       "      <td>2414</td>\n",
       "      <td>fr</td>\n",
       "      <td>fr</td>\n",
       "      <td>2017-12-07 15:11:28.000000 UTC</td>\n",
       "      <td>2017-12-08 11:07:49.000000 UTC</td>\n",
       "      <td>0.0</td>\n",
       "      <td>19.0</td>\n",
       "      <td>2018-01-06</td>\n",
       "      <td>2017</td>\n",
       "      <td>December</td>\n",
       "      <td>...</td>\n",
       "      <td>25.0</td>\n",
       "      <td>0.0</td>\n",
       "      <td>0.0</td>\n",
       "      <td>0.0</td>\n",
       "      <td>NaN</td>\n",
       "      <td>0.0</td>\n",
       "      <td>0.0</td>\n",
       "      <td>0.0</td>\n",
       "      <td>20171208.0</td>\n",
       "      <td>NaN</td>\n",
       "    </tr>\n",
       "    <tr>\n",
       "      <th>3</th>\n",
       "      <td>2398</td>\n",
       "      <td>fr</td>\n",
       "      <td>fr</td>\n",
       "      <td>2017-12-07 22:22:39.000000 UTC</td>\n",
       "      <td>2017-12-07 23:07:46.000000 UTC</td>\n",
       "      <td>0.0</td>\n",
       "      <td>0.0</td>\n",
       "      <td>2018-01-06</td>\n",
       "      <td>2017</td>\n",
       "      <td>December</td>\n",
       "      <td>...</td>\n",
       "      <td>43.0</td>\n",
       "      <td>0.0</td>\n",
       "      <td>0.0</td>\n",
       "      <td>0.0</td>\n",
       "      <td>NaN</td>\n",
       "      <td>0.0</td>\n",
       "      <td>0.0</td>\n",
       "      <td>0.0</td>\n",
       "      <td>20171208.0</td>\n",
       "      <td>NaN</td>\n",
       "    </tr>\n",
       "    <tr>\n",
       "      <th>4</th>\n",
       "      <td>2329</td>\n",
       "      <td>fr</td>\n",
       "      <td>fr</td>\n",
       "      <td>2017-12-06 13:53:36.000000 UTC</td>\n",
       "      <td>NaN</td>\n",
       "      <td>NaN</td>\n",
       "      <td>NaN</td>\n",
       "      <td>2018-01-05</td>\n",
       "      <td>2017</td>\n",
       "      <td>December</td>\n",
       "      <td>...</td>\n",
       "      <td>22.0</td>\n",
       "      <td>0.0</td>\n",
       "      <td>0.0</td>\n",
       "      <td>0.0</td>\n",
       "      <td>NaN</td>\n",
       "      <td>0.0</td>\n",
       "      <td>0.0</td>\n",
       "      <td>0.0</td>\n",
       "      <td>20171211.0</td>\n",
       "      <td>20171211.0</td>\n",
       "    </tr>\n",
       "  </tbody>\n",
       "</table>\n",
       "<p>5 rows × 43 columns</p>\n",
       "</div>"
      ],
      "text/plain": [
       "   Merchant_ID Merchant_Country Merchant_Language  \\\n",
       "0         2535               fr                fr   \n",
       "1         2523               fr                fr   \n",
       "2         2414               fr                fr   \n",
       "3         2398               fr                fr   \n",
       "4         2329               fr                fr   \n",
       "\n",
       "      Merchant_Creation_Timestamp Merchant_Subscription_Timestamp  \\\n",
       "0  2017-12-11 01:51:08.000000 UTC                             NaN   \n",
       "1  2017-12-07 21:10:47.000000 UTC  2017-12-10 19:07:52.000000 UTC   \n",
       "2  2017-12-07 15:11:28.000000 UTC  2017-12-08 11:07:49.000000 UTC   \n",
       "3  2017-12-07 22:22:39.000000 UTC  2017-12-07 23:07:46.000000 UTC   \n",
       "4  2017-12-06 13:53:36.000000 UTC                             NaN   \n",
       "\n",
       "   Merchant_Days_To_Subscribe  Merchant_Hours_To_Subscribe Merchant_End_Trial  \\\n",
       "0                         NaN                          NaN         2018-01-10   \n",
       "1                         2.0                         69.0         2018-01-06   \n",
       "2                         0.0                         19.0         2018-01-06   \n",
       "3                         0.0                          0.0         2018-01-06   \n",
       "4                         NaN                          NaN         2018-01-05   \n",
       "\n",
       "   Merchant_Creation_Year Merchant_Creation_Month  \\\n",
       "0                    2017                December   \n",
       "1                    2017                December   \n",
       "2                    2017                December   \n",
       "3                    2017                December   \n",
       "4                    2017                December   \n",
       "\n",
       "               ...              Shop_Bo_Connections_Last_30_Days  \\\n",
       "0              ...                                          15.0   \n",
       "1              ...                                          41.0   \n",
       "2              ...                                          25.0   \n",
       "3              ...                                          43.0   \n",
       "4              ...                                          22.0   \n",
       "\n",
       "  Shop_Orders_Count Shop_Orders_Count_Last_7_Days  \\\n",
       "0               0.0                           0.0   \n",
       "1               0.0                           0.0   \n",
       "2               0.0                           0.0   \n",
       "3               0.0                           0.0   \n",
       "4               0.0                           0.0   \n",
       "\n",
       "  Shop_Orders_Count_Last_30_Days Shop_Last_Order_Date Shop_Gross_Sales  \\\n",
       "0                            0.0                  NaN              0.0   \n",
       "1                            0.0                  NaN              0.0   \n",
       "2                            0.0                  NaN              0.0   \n",
       "3                            0.0                  NaN              0.0   \n",
       "4                            0.0                  NaN              0.0   \n",
       "\n",
       "  Shop_Gross_Sales_Last_7_Days Shop_Gross_Sales_Last_30_Days  \\\n",
       "0                          0.0                           0.0   \n",
       "1                          0.0                           0.0   \n",
       "2                          0.0                           0.0   \n",
       "3                          0.0                           0.0   \n",
       "4                          0.0                           0.0   \n",
       "\n",
       "  Shop_Last_Logo_Change_Date Shop_Last_Favicon_Change_Date  \n",
       "0                 20171212.0                    20171212.0  \n",
       "1                 20171208.0                           NaN  \n",
       "2                 20171208.0                           NaN  \n",
       "3                 20171208.0                           NaN  \n",
       "4                 20171211.0                    20171211.0  \n",
       "\n",
       "[5 rows x 43 columns]"
      ]
     },
     "execution_count": 3,
     "metadata": {},
     "output_type": "execute_result"
    }
   ],
   "source": [
    "data.head(5)"
   ]
  },
  {
   "cell_type": "code",
   "execution_count": 4,
   "metadata": {},
   "outputs": [
    {
     "name": "stdout",
     "output_type": "stream",
     "text": [
      "Number of merchants 2089\n",
      "Number of features 43\n"
     ]
    }
   ],
   "source": [
    "a,b = data.shape\n",
    "print('Number of merchants '+str(a))\n",
    "print('Number of features '+str(b))"
   ]
  },
  {
   "cell_type": "code",
   "execution_count": 5,
   "metadata": {},
   "outputs": [
    {
     "name": "stdout",
     "output_type": "stream",
     "text": [
      "Data type of each column\n"
     ]
    },
    {
     "data": {
      "text/plain": [
       "Merchant_ID                                int64\n",
       "Merchant_Country                          object\n",
       "Merchant_Language                         object\n",
       "Merchant_Creation_Timestamp               object\n",
       "Merchant_Subscription_Timestamp           object\n",
       "Merchant_Days_To_Subscribe               float64\n",
       "Merchant_Hours_To_Subscribe              float64\n",
       "Merchant_End_Trial                        object\n",
       "Merchant_Creation_Year                     int64\n",
       "Merchant_Creation_Month                   object\n",
       "Merchant_Creation_Day_Of_Week             object\n",
       "Merchant_Creation_Time                    object\n",
       "Merchant_Creation_Time_Period             object\n",
       "Merchant_Billing_Country                  object\n",
       "Merchant_Billing_City                     object\n",
       "Merchant_Billing_Zip                      object\n",
       "Merchant_Plan_Offer                       object\n",
       "Merchant_Plan_Periodicity                 object\n",
       "Shop_Status                               object\n",
       "Shop_Name                                 object\n",
       "Shop_ID                                   object\n",
       "Shop_Image_Version                        object\n",
       "Shop_Existence_Days                      float64\n",
       "Shop_Last_Bo_Connection_Date             float64\n",
       "Shop_Theme                                object\n",
       "Shop_Last_Theme_Change_Date              float64\n",
       "Shop_Products_Count                      float64\n",
       "Shop_Shipping_Methods_Count              float64\n",
       "Shop_Last_Shipping_Method_Config_Date    float64\n",
       "Shop_Payment_Methods_Count               float64\n",
       "Shop_Last_Payment_Method_Config_Date     float64\n",
       "Shop_Bo_Connections                      float64\n",
       "Shop_Bo_Connections_Last_7_Days          float64\n",
       "Shop_Bo_Connections_Last_30_Days         float64\n",
       "Shop_Orders_Count                        float64\n",
       "Shop_Orders_Count_Last_7_Days            float64\n",
       "Shop_Orders_Count_Last_30_Days           float64\n",
       "Shop_Last_Order_Date                     float64\n",
       "Shop_Gross_Sales                         float64\n",
       "Shop_Gross_Sales_Last_7_Days             float64\n",
       "Shop_Gross_Sales_Last_30_Days            float64\n",
       "Shop_Last_Logo_Change_Date               float64\n",
       "Shop_Last_Favicon_Change_Date            float64\n",
       "dtype: object"
      ]
     },
     "execution_count": 5,
     "metadata": {},
     "output_type": "execute_result"
    }
   ],
   "source": [
    "print('Data type of each column: ')\n",
    "data.dtypes"
   ]
  },
  {
   "cell_type": "code",
   "execution_count": 7,
   "metadata": {},
   "outputs": [
    {
     "name": "stdout",
     "output_type": "stream",
     "text": [
      "Merchants with more than one e-shop\n",
      "0\n"
     ]
    }
   ],
   "source": [
    "print('Merchants with more than one e-shop')\n",
    "print(data['Merchant_ID'].duplicated().sum())"
   ]
  },
  {
   "cell_type": "code",
   "execution_count": 9,
   "metadata": {},
   "outputs": [
    {
     "name": "stdout",
     "output_type": "stream",
     "text": [
      "Churn ratio before the end of the trial period: \n",
      "0.0\n"
     ]
    }
   ],
   "source": [
    "print('Churn ratio before the end of the trial period: ')\n",
    "print(data[(data['Shop_Status']=='disabled') & (data['Shop_Existence_Days']<30)]['Merchant_ID'].count()/a)"
   ]
  },
  {
   "cell_type": "code",
   "execution_count": 11,
   "metadata": {},
   "outputs": [
    {
     "name": "stdout",
     "output_type": "stream",
     "text": [
      "Merchant plan offer distribution: \n",
      "Trial    2037\n",
      "Start      52\n",
      "Name: Merchant_Plan_Offer, dtype: int64\n"
     ]
    }
   ],
   "source": [
    "print('Merchant plan offer distribution: ')\n",
    "print(data['Merchant_Plan_Offer'].value_counts())"
   ]
  },
  {
   "cell_type": "markdown",
   "metadata": {},
   "source": [
    "### 1.b Filterning the data "
   ]
  },
  {
   "cell_type": "code",
   "execution_count": 4,
   "metadata": {},
   "outputs": [
    {
     "name": "stdout",
     "output_type": "stream",
     "text": [
      "Interest merchant plan offer distribution: \n",
      "Trial: 521\n",
      "Start: 52\n"
     ]
    }
   ],
   "source": [
    "df = data[(data['Shop_Existence_Days']>=30) & (data['Shop_Status']=='disabled') | (data['Merchant_Plan_Offer']=='Start')]\n",
    "trial, start = df['Merchant_Plan_Offer'].value_counts()\n",
    "print('Interest merchant plan offer distribution: ')\n",
    "print('Trial: '+str(trial))\n",
    "print('Start: '+str(start))"
   ]
  },
  {
   "cell_type": "code",
   "execution_count": 5,
   "metadata": {},
   "outputs": [
    {
     "name": "stdout",
     "output_type": "stream",
     "text": [
      "Percentage of merchants not churning: 9.08 %\n"
     ]
    }
   ],
   "source": [
    "print(\"Percentage of merchants not churning: %s %%\" % \"{0:.3}\".format(100*start/(start+trial)))"
   ]
  },
  {
   "cell_type": "code",
   "execution_count": 6,
   "metadata": {},
   "outputs": [],
   "source": [
    "df = df.reset_index(drop=True)"
   ]
  },
  {
   "cell_type": "markdown",
   "metadata": {},
   "source": [
    "### 1.c Adding engineering features "
   ]
  },
  {
   "cell_type": "code",
   "execution_count": 7,
   "metadata": {},
   "outputs": [
    {
     "name": "stderr",
     "output_type": "stream",
     "text": [
      "/home/gabriel/.local/lib/python3.5/site-packages/pandas/core/indexing.py:194: SettingWithCopyWarning: \n",
      "A value is trying to be set on a copy of a slice from a DataFrame\n",
      "\n",
      "See the caveats in the documentation: http://pandas.pydata.org/pandas-docs/stable/indexing.html#indexing-view-versus-copy\n",
      "  self._setitem_with_indexer(indexer, value)\n"
     ]
    }
   ],
   "source": [
    "# Engineering features\n",
    "df['Shop_Existence_Days_Corrected'] = df['Shop_Existence_Days']\n",
    "df['Shop_Existence_Days_Corrected'].iloc[df[df['Merchant_Plan_Offer']=='Trial'].index] = 30\n",
    "df['Shop_Gross_Sales_Ratio'] = df['Shop_Gross_Sales']/df['Shop_Existence_Days_Corrected']\n",
    "df['Shop_Bo_Connections_Ratio'] = df['Shop_Bo_Connections']/df['Shop_Existence_Days_Corrected']\n",
    "df['Shop_Orders_Count_Ratio'] = df['Shop_Orders_Count']/df['Shop_Existence_Days_Corrected']"
   ]
  },
  {
   "cell_type": "code",
   "execution_count": 8,
   "metadata": {},
   "outputs": [],
   "source": [
    "# add more variables\n",
    "var_num = ['Shop_Products_Count','Shop_Bo_Connections_Ratio','Shop_Orders_Count_Ratio',\n",
    "           'Shop_Gross_Sales_Ratio','Shop_Shipping_Methods_Count']\n",
    "var_cat = ['Merchant_Country','Merchant_Language','Shop_Status']                                                      "
   ]
  },
  {
   "cell_type": "code",
   "execution_count": 9,
   "metadata": {},
   "outputs": [],
   "source": [
    "#convert all categorical variables into numeric by encoding the categories\n",
    "from sklearn.preprocessing import LabelEncoder\n",
    "le = LabelEncoder()\n",
    "for i in var_cat:\n",
    "    df[i] = le.fit_transform(df[i])"
   ]
  },
  {
   "cell_type": "code",
   "execution_count": 10,
   "metadata": {},
   "outputs": [],
   "source": [
    "df_selection = df[var_num+var_cat]"
   ]
  },
  {
   "cell_type": "markdown",
   "metadata": {},
   "source": [
    "### 1.d Cleaning data "
   ]
  },
  {
   "cell_type": "code",
   "execution_count": 11,
   "metadata": {},
   "outputs": [],
   "source": [
    "# drop rows with NaN\n",
    "df_selection = df_selection.dropna(how='any') "
   ]
  },
  {
   "cell_type": "markdown",
   "metadata": {},
   "source": [
    "### 1.e Final data description "
   ]
  },
  {
   "cell_type": "code",
   "execution_count": 75,
   "metadata": {},
   "outputs": [
    {
     "data": {
      "text/html": [
       "<div>\n",
       "<style scoped>\n",
       "    .dataframe tbody tr th:only-of-type {\n",
       "        vertical-align: middle;\n",
       "    }\n",
       "\n",
       "    .dataframe tbody tr th {\n",
       "        vertical-align: top;\n",
       "    }\n",
       "\n",
       "    .dataframe thead th {\n",
       "        text-align: right;\n",
       "    }\n",
       "</style>\n",
       "<table border=\"1\" class=\"dataframe\">\n",
       "  <thead>\n",
       "    <tr style=\"text-align: right;\">\n",
       "      <th></th>\n",
       "      <th>Shop_Products_Count</th>\n",
       "      <th>Shop_Bo_Connections_Ratio</th>\n",
       "      <th>Shop_Orders_Count_Ratio</th>\n",
       "      <th>Shop_Gross_Sales_Ratio</th>\n",
       "      <th>Shop_Shipping_Methods_Count</th>\n",
       "      <th>Merchant_Country</th>\n",
       "      <th>Merchant_Language</th>\n",
       "      <th>Shop_Status</th>\n",
       "    </tr>\n",
       "  </thead>\n",
       "  <tbody>\n",
       "    <tr>\n",
       "      <th>count</th>\n",
       "      <td>572.000000</td>\n",
       "      <td>572.000000</td>\n",
       "      <td>572.000000</td>\n",
       "      <td>572.000000</td>\n",
       "      <td>572.000000</td>\n",
       "      <td>572.000000</td>\n",
       "      <td>572.000000</td>\n",
       "      <td>572.000000</td>\n",
       "    </tr>\n",
       "    <tr>\n",
       "      <th>mean</th>\n",
       "      <td>8.606643</td>\n",
       "      <td>0.293350</td>\n",
       "      <td>0.001869</td>\n",
       "      <td>0.218881</td>\n",
       "      <td>1.054196</td>\n",
       "      <td>1.508741</td>\n",
       "      <td>1.501748</td>\n",
       "      <td>0.910839</td>\n",
       "    </tr>\n",
       "    <tr>\n",
       "      <th>std</th>\n",
       "      <td>124.263536</td>\n",
       "      <td>0.838549</td>\n",
       "      <td>0.012529</td>\n",
       "      <td>2.708320</td>\n",
       "      <td>0.281726</td>\n",
       "      <td>0.616408</td>\n",
       "      <td>0.633283</td>\n",
       "      <td>0.285225</td>\n",
       "    </tr>\n",
       "    <tr>\n",
       "      <th>min</th>\n",
       "      <td>0.000000</td>\n",
       "      <td>0.000000</td>\n",
       "      <td>0.000000</td>\n",
       "      <td>0.000000</td>\n",
       "      <td>0.000000</td>\n",
       "      <td>0.000000</td>\n",
       "      <td>0.000000</td>\n",
       "      <td>0.000000</td>\n",
       "    </tr>\n",
       "    <tr>\n",
       "      <th>25%</th>\n",
       "      <td>0.000000</td>\n",
       "      <td>0.033333</td>\n",
       "      <td>0.000000</td>\n",
       "      <td>0.000000</td>\n",
       "      <td>1.000000</td>\n",
       "      <td>1.000000</td>\n",
       "      <td>1.000000</td>\n",
       "      <td>1.000000</td>\n",
       "    </tr>\n",
       "    <tr>\n",
       "      <th>50%</th>\n",
       "      <td>0.000000</td>\n",
       "      <td>0.066667</td>\n",
       "      <td>0.000000</td>\n",
       "      <td>0.000000</td>\n",
       "      <td>1.000000</td>\n",
       "      <td>1.000000</td>\n",
       "      <td>1.000000</td>\n",
       "      <td>1.000000</td>\n",
       "    </tr>\n",
       "    <tr>\n",
       "      <th>75%</th>\n",
       "      <td>0.000000</td>\n",
       "      <td>0.200000</td>\n",
       "      <td>0.000000</td>\n",
       "      <td>0.000000</td>\n",
       "      <td>1.000000</td>\n",
       "      <td>2.000000</td>\n",
       "      <td>2.000000</td>\n",
       "      <td>1.000000</td>\n",
       "    </tr>\n",
       "    <tr>\n",
       "      <th>max</th>\n",
       "      <td>2929.000000</td>\n",
       "      <td>8.600000</td>\n",
       "      <td>0.133333</td>\n",
       "      <td>57.499667</td>\n",
       "      <td>4.000000</td>\n",
       "      <td>3.000000</td>\n",
       "      <td>3.000000</td>\n",
       "      <td>1.000000</td>\n",
       "    </tr>\n",
       "  </tbody>\n",
       "</table>\n",
       "</div>"
      ],
      "text/plain": [
       "       Shop_Products_Count  Shop_Bo_Connections_Ratio  \\\n",
       "count           572.000000                 572.000000   \n",
       "mean              8.606643                   0.293350   \n",
       "std             124.263536                   0.838549   \n",
       "min               0.000000                   0.000000   \n",
       "25%               0.000000                   0.033333   \n",
       "50%               0.000000                   0.066667   \n",
       "75%               0.000000                   0.200000   \n",
       "max            2929.000000                   8.600000   \n",
       "\n",
       "       Shop_Orders_Count_Ratio  Shop_Gross_Sales_Ratio  \\\n",
       "count               572.000000              572.000000   \n",
       "mean                  0.001869                0.218881   \n",
       "std                   0.012529                2.708320   \n",
       "min                   0.000000                0.000000   \n",
       "25%                   0.000000                0.000000   \n",
       "50%                   0.000000                0.000000   \n",
       "75%                   0.000000                0.000000   \n",
       "max                   0.133333               57.499667   \n",
       "\n",
       "       Shop_Shipping_Methods_Count  Merchant_Country  Merchant_Language  \\\n",
       "count                   572.000000        572.000000         572.000000   \n",
       "mean                      1.054196          1.508741           1.501748   \n",
       "std                       0.281726          0.616408           0.633283   \n",
       "min                       0.000000          0.000000           0.000000   \n",
       "25%                       1.000000          1.000000           1.000000   \n",
       "50%                       1.000000          1.000000           1.000000   \n",
       "75%                       1.000000          2.000000           2.000000   \n",
       "max                       4.000000          3.000000           3.000000   \n",
       "\n",
       "       Shop_Status  \n",
       "count   572.000000  \n",
       "mean      0.910839  \n",
       "std       0.285225  \n",
       "min       0.000000  \n",
       "25%       1.000000  \n",
       "50%       1.000000  \n",
       "75%       1.000000  \n",
       "max       1.000000  "
      ]
     },
     "execution_count": 75,
     "metadata": {},
     "output_type": "execute_result"
    }
   ],
   "source": [
    "df_selection.describe()"
   ]
  },
  {
   "cell_type": "code",
   "execution_count": 12,
   "metadata": {},
   "outputs": [
    {
     "name": "stdout",
     "output_type": "stream",
     "text": [
      "Number of merchants for each class: \n",
      "Disabled accounts: 521\n",
      "Active/Created accounts: 51\n"
     ]
    }
   ],
   "source": [
    "print(\"Number of merchants for each class: \")\n",
    "disabled, active = df_selection['Shop_Status'].value_counts()\n",
    "print(\"Disabled accounts: \"+str(disabled))\n",
    "print(\"Active/Created accounts: \"+str(active))"
   ]
  },
  {
   "cell_type": "markdown",
   "metadata": {},
   "source": [
    "## 2. Data analysis and classifier construction "
   ]
  },
  {
   "cell_type": "code",
   "execution_count": 13,
   "metadata": {},
   "outputs": [],
   "source": [
    "from sklearn.svm import SVC\n",
    "from sklearn.linear_model import LogisticRegression\n",
    "from sklearn.ensemble import RandomForestClassifier\n",
    "from sklearn.tree import DecisionTreeClassifier, export_graphviz\n",
    "from sklearn import metrics\n",
    "from sklearn.metrics import roc_auc_score\n",
    "from sklearn.model_selection import train_test_split\n",
    "from sklearn import preprocessing"
   ]
  },
  {
   "cell_type": "code",
   "execution_count": 14,
   "metadata": {},
   "outputs": [],
   "source": [
    "y = df_selection['Shop_Status'] \n",
    "X = df_selection.drop('Shop_Status',axis=1)"
   ]
  },
  {
   "cell_type": "code",
   "execution_count": 75,
   "metadata": {},
   "outputs": [],
   "source": [
    "X_train, X_test, y_train, y_test = train_test_split(X, y,test_size=0.2,random_state=123,stratify=y)"
   ]
  },
  {
   "cell_type": "code",
   "execution_count": 76,
   "metadata": {},
   "outputs": [],
   "source": [
    "# scale data\n",
    "scaler = preprocessing.StandardScaler().fit(X_train)\n",
    "X_train_scaled = scaler.transform(X_train)\n",
    "X_test_scaled = scaler.transform(X_test)"
   ]
  },
  {
   "cell_type": "code",
   "execution_count": 77,
   "metadata": {},
   "outputs": [],
   "source": [
    "# General testing function measuring the performance of the predictor on the test dataset\n",
    "def classification_model(model, input_train, output_train, input_test, output_test):\n",
    "    #Fit the model:\n",
    "    model.fit(input_train,output_train)\n",
    "  \n",
    "    #Make predictions on train and test datasets:\n",
    "    predictions_train = model.predict_proba(input_train)\n",
    "    predictions_test = model.predict_proba(input_test)\n",
    "  \n",
    "    #Print scoring\n",
    "    auc = roc_auc_score(output_train, predictions_train[:,1])\n",
    "    print (\"Train data scoring (AUC-ROC): %s\" % \"{0:.3}\".format(auc))\n",
    "    \n",
    "    auc = roc_auc_score(output_test, predictions_test[:,1])\n",
    "    print (\"Test data scoring (AUC-ROC): %s\" % \"{0:.3}\".format(auc))"
   ]
  },
  {
   "cell_type": "markdown",
   "metadata": {},
   "source": [
    "### SVM classifier "
   ]
  },
  {
   "cell_type": "code",
   "execution_count": 78,
   "metadata": {},
   "outputs": [],
   "source": [
    "svc = SVC(class_weight='balanced', probability = True)"
   ]
  },
  {
   "cell_type": "code",
   "execution_count": 79,
   "metadata": {},
   "outputs": [
    {
     "name": "stdout",
     "output_type": "stream",
     "text": [
      "Train data scoring (AUC-ROC): 0.91\n",
      "Test data scoring (AUC-ROC): 0.756\n"
     ]
    }
   ],
   "source": [
    "classification_model(svc, X_train_scaled, 1-y_train, X_test_scaled, 1-y_test)"
   ]
  },
  {
   "cell_type": "markdown",
   "metadata": {},
   "source": [
    "### Logistic regression "
   ]
  },
  {
   "cell_type": "code",
   "execution_count": 80,
   "metadata": {},
   "outputs": [],
   "source": [
    "logreg = LogisticRegression(class_weight='balanced') "
   ]
  },
  {
   "cell_type": "code",
   "execution_count": 81,
   "metadata": {},
   "outputs": [
    {
     "name": "stdout",
     "output_type": "stream",
     "text": [
      "Train data scoring (AUC-ROC): 0.907\n",
      "Test data scoring (AUC-ROC): 0.717\n"
     ]
    }
   ],
   "source": [
    "classification_model(logreg, X_train_scaled, 1-y_train, X_test_scaled, 1-y_test)"
   ]
  },
  {
   "cell_type": "markdown",
   "metadata": {},
   "source": [
    "### Decision tree"
   ]
  },
  {
   "cell_type": "code",
   "execution_count": 82,
   "metadata": {},
   "outputs": [],
   "source": [
    "dtc = DecisionTreeClassifier(max_depth=4,class_weight = 'balanced')"
   ]
  },
  {
   "cell_type": "code",
   "execution_count": 83,
   "metadata": {},
   "outputs": [
    {
     "name": "stdout",
     "output_type": "stream",
     "text": [
      "Train data scoring (AUC-ROC): 0.979\n",
      "Test data scoring (AUC-ROC): 0.956\n"
     ]
    }
   ],
   "source": [
    "classification_model(dtc, X_train_scaled, 1-y_train, X_test_scaled, 1-y_test)"
   ]
  },
  {
   "cell_type": "markdown",
   "metadata": {},
   "source": [
    "### Random forest classifier "
   ]
  },
  {
   "cell_type": "code",
   "execution_count": 98,
   "metadata": {},
   "outputs": [],
   "source": [
    "rfc = RandomForestClassifier(class_weight = 'balanced', random_state=0)"
   ]
  },
  {
   "cell_type": "code",
   "execution_count": 99,
   "metadata": {},
   "outputs": [
    {
     "name": "stdout",
     "output_type": "stream",
     "text": [
      "Train data scoring (AUC-ROC): 0.997\n",
      "Test data scoring (AUC-ROC): 0.807\n"
     ]
    }
   ],
   "source": [
    "classification_model(rfc, X_train_scaled, 1-y_train, X_test_scaled, 1-y_test)"
   ]
  },
  {
   "cell_type": "code",
   "execution_count": 100,
   "metadata": {},
   "outputs": [
    {
     "name": "stdout",
     "output_type": "stream",
     "text": [
      "Features importances:\n",
      "Shop_Products_Count: 0.2\n",
      "Shop_Bo_Connections_Ratio: 0.7\n",
      "Shop_Orders_Count_Ratio: 0.02\n",
      "Shop_Gross_Sales_Ratio: 0.02\n",
      "Shop_Shipping_Methods_Count: 0.02\n",
      "Merchant_Country: 0.03\n",
      "Merchant_Language: 0.03\n"
     ]
    }
   ],
   "source": [
    "print('Features importances:')\n",
    "rfc_imp = rfc.feature_importances_\n",
    "features_names = var_num + var_cat\n",
    "for i in range(0,len(rfc_imp)):\n",
    "    print (features_names[i]+\": %s\" % \"{0:.1}\".format(rfc_imp[i]))"
   ]
  },
  {
   "cell_type": "markdown",
   "metadata": {},
   "source": [
    "## 3. Model comparison "
   ]
  },
  {
   "cell_type": "code",
   "execution_count": 101,
   "metadata": {},
   "outputs": [],
   "source": [
    "predictions_proba_svc = svc.predict_proba(X_test_scaled)\n",
    "predictions_proba_dtc = dtc.predict_proba(X_test_scaled)\n",
    "predictions_proba_rfc = rfc.predict_proba(X_test_scaled)"
   ]
  },
  {
   "cell_type": "code",
   "execution_count": 102,
   "metadata": {},
   "outputs": [],
   "source": [
    "pre_svc, rec_svc, thr_svc= metrics.precision_recall_curve(1-y_test, predictions_proba_svc[:,1])\n",
    "pre_dtc, rec_dtc, thr_dtc= metrics.precision_recall_curve(1-y_test, predictions_proba_dtc[:,1])\n",
    "pre_rfc, rec_rfc, thr_rfc= metrics.precision_recall_curve(1-y_test, predictions_proba_rfc[:,1])"
   ]
  },
  {
   "cell_type": "code",
   "execution_count": 103,
   "metadata": {},
   "outputs": [
    {
     "data": {
      "text/plain": [
       "Text(0.5,1,'Precision vs Recall curve for various models')"
      ]
     },
     "execution_count": 103,
     "metadata": {},
     "output_type": "execute_result"
    },
    {
     "data": {
      "image/png": "[encoded data removed]",
      "text/plain": [
       "<matplotlib.figure.Figure at 0x7f27550c2cc0>"
      ]
     },
     "metadata": {},
     "output_type": "display_data"
    }
   ],
   "source": [
    "# plot various precision and recall curves for each model\n",
    "plt.plot(rec_svc,pre_svc,label=\"Support vector classifier\")\n",
    "plt.plot(rec_dtc,pre_dtc,label=\"Decision tree classifier\")\n",
    "plt.plot(rec_rfc,pre_rfc,label=\"Random forest classifier\")\n",
    "plt.legend(bbox_to_anchor=(1.05, 1), loc=2, borderaxespad=0.)\n",
    "plt.xlabel('Recall')\n",
    "plt.ylabel('Precision')\n",
    "plt.title('Precision vs Recall curve for various models')"
   ]
  },
  {
   "cell_type": "markdown",
   "metadata": {},
   "source": [
    "### Best model performances (Decision tree) "
   ]
  },
  {
   "cell_type": "code",
   "execution_count": 104,
   "metadata": {},
   "outputs": [
    {
     "name": "stdout",
     "output_type": "stream",
     "text": [
      "Train data scoring (F1) : 0.583\n",
      "Train data scoring (Precision) : 0.5\n",
      "Train data scoring (Recall) : 0.7\n",
      "Confusion matrix\n",
      "[[98  7]\n",
      " [ 3  7]]\n"
     ]
    }
   ],
   "source": [
    "predictions = dtc.predict(X_test_scaled)\n",
    "print(\"Train data scoring (F1) : %s\" % \"{0:.3}\".format(metrics.f1_score(1-y_test, predictions)))\n",
    "print(\"Train data scoring (Precision) : %s\" % \"{0:.3}\".format(metrics.precision_score(1-y_test, predictions)))\n",
    "print(\"Train data scoring (Recall) : %s\" % \"{0:.3}\".format(metrics.recall_score(1-y_test, predictions)))\n",
    "print('Confusion matrix')\n",
    "print(metrics.confusion_matrix(1-y_test, predictions))"
   ]
  },
  {
   "cell_type": "code",
   "execution_count": null,
   "metadata": {},
   "outputs": [],
   "source": [
    "export_graphviz(dtc,out_file='tree.dot')"
   ]
  }
 ],
 "metadata": {
  "kernelspec": {
   "display_name": "Python 3",
   "language": "python",
   "name": "python3"
  },
  "language_info": {
   "codemirror_mode": {
    "name": "ipython",
    "version": 3
   },
   "file_extension": ".py",
   "mimetype": "text/x-python",
   "name": "python",
   "nbconvert_exporter": "python",
   "pygments_lexer": "ipython3",
   "version": "3.5.2"
  }
 },
 "nbformat": 4,
 "nbformat_minor": 2
}
