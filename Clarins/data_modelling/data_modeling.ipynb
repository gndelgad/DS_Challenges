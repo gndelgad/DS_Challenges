{
 "cells": [
  {
   "cell_type": "markdown",
   "metadata": {},
   "source": [
    "# Clarins challenge: data modelling\n",
    "\n",
    "Gabriel Delgado\n",
    "gndelgad@gmail.com\n",
    "06/03/2020\n",
    "\n",
    "Create an algorithm to realize the order forecast of this dataset:\n",
    "https://www.kaggle.com/janusznoszczynski/polish-pizza-restaurants-orders-history"
   ]
  },
  {
   "cell_type": "markdown",
   "metadata": {},
   "source": [
    "## Imports"
   ]
  },
  {
   "cell_type": "code",
   "execution_count": 3,
   "metadata": {},
   "outputs": [],
   "source": [
    "import pandas as pd\n",
    "from datetime import date as dt\n",
    "\n",
    "from sklearn.ensemble import RandomForestRegressor\n",
    "from sklearn.linear_model import Lasso\n",
    "from sklearn.model_selection import GridSearchCV\n",
    "\n",
    "from sklearn.metrics import r2_score, mean_squared_error\n",
    "from sklearn.model_selection import train_test_split\n",
    "import matplotlib.pyplot as plt\n",
    "%matplotlib inline"
   ]
  },
  {
   "cell_type": "markdown",
   "metadata": {},
   "source": [
    "## Loading data"
   ]
  },
  {
   "cell_type": "code",
   "execution_count": 4,
   "metadata": {},
   "outputs": [],
   "source": [
    "df_data = pd.read_csv('pizzeria_tania_data_simplified.csv')"
   ]
  },
  {
   "cell_type": "code",
   "execution_count": 5,
   "metadata": {},
   "outputs": [
    {
     "data": {
      "text/html": [
       "<div>\n",
       "<table border=\"1\" class=\"dataframe\">\n",
       "  <thead>\n",
       "    <tr style=\"text-align: right;\">\n",
       "      <th></th>\n",
       "      <th>count</th>\n",
       "      <th>year</th>\n",
       "      <th>month</th>\n",
       "      <th>day</th>\n",
       "      <th>hour</th>\n",
       "      <th>working_day</th>\n",
       "      <th>weekend_day</th>\n",
       "      <th>public_holiday</th>\n",
       "    </tr>\n",
       "  </thead>\n",
       "  <tbody>\n",
       "    <tr>\n",
       "      <th>0</th>\n",
       "      <td>5</td>\n",
       "      <td>2016</td>\n",
       "      <td>10</td>\n",
       "      <td>11</td>\n",
       "      <td>12</td>\n",
       "      <td>1</td>\n",
       "      <td>0</td>\n",
       "      <td>0</td>\n",
       "    </tr>\n",
       "    <tr>\n",
       "      <th>1</th>\n",
       "      <td>1</td>\n",
       "      <td>2016</td>\n",
       "      <td>10</td>\n",
       "      <td>11</td>\n",
       "      <td>13</td>\n",
       "      <td>1</td>\n",
       "      <td>0</td>\n",
       "      <td>0</td>\n",
       "    </tr>\n",
       "  </tbody>\n",
       "</table>\n",
       "</div>"
      ],
      "text/plain": [
       "   count  year  month  day  hour  working_day  weekend_day  public_holiday\n",
       "0      5  2016     10   11    12            1            0               0\n",
       "1      1  2016     10   11    13            1            0               0"
      ]
     },
     "execution_count": 5,
     "metadata": {},
     "output_type": "execute_result"
    }
   ],
   "source": [
    "df_data.head(2)"
   ]
  },
  {
   "cell_type": "code",
   "execution_count": 6,
   "metadata": {},
   "outputs": [
    {
     "name": "stdout",
     "output_type": "stream",
     "text": [
      "<class 'pandas.core.frame.DataFrame'>\n",
      "RangeIndex: 14772 entries, 0 to 14771\n",
      "Data columns (total 8 columns):\n",
      "count             14772 non-null int64\n",
      "year              14772 non-null int64\n",
      "month             14772 non-null int64\n",
      "day               14772 non-null int64\n",
      "hour              14772 non-null int64\n",
      "working_day       14772 non-null int64\n",
      "weekend_day       14772 non-null int64\n",
      "public_holiday    14772 non-null int64\n",
      "dtypes: int64(8)\n",
      "memory usage: 923.3 KB\n"
     ]
    }
   ],
   "source": [
    "df_data.info()"
   ]
  },
  {
   "cell_type": "markdown",
   "metadata": {},
   "source": [
    "## Data cleaning and sanity checks"
   ]
  },
  {
   "cell_type": "code",
   "execution_count": 6,
   "metadata": {},
   "outputs": [
    {
     "data": {
      "text/plain": [
       "count             0\n",
       "year              0\n",
       "month             0\n",
       "day               0\n",
       "hour              0\n",
       "working_day       0\n",
       "weekend_day       0\n",
       "public_holiday    0\n",
       "dtype: int64"
      ]
     },
     "execution_count": 6,
     "metadata": {},
     "output_type": "execute_result"
    }
   ],
   "source": [
    "# There are no missing values\n",
    "pd.isnull(df_data).sum()"
   ]
  },
  {
   "cell_type": "code",
   "execution_count": 26,
   "metadata": {},
   "outputs": [
    {
     "data": {
      "text/plain": [
       "True"
      ]
     },
     "execution_count": 26,
     "metadata": {},
     "output_type": "execute_result"
    }
   ],
   "source": [
    "# Always at least one of the three cases must occur but not the three at the same time\n",
    "all((df_data['working_day'] + df_data['weekend_day'] + df_data['public_holiday']).isin({1, 2}))"
   ]
  },
  {
   "cell_type": "code",
   "execution_count": 29,
   "metadata": {},
   "outputs": [
    {
     "data": {
      "text/html": [
       "<div>\n",
       "<table border=\"1\" class=\"dataframe\">\n",
       "  <thead>\n",
       "    <tr style=\"text-align: right;\">\n",
       "      <th></th>\n",
       "      <th>count</th>\n",
       "      <th>year</th>\n",
       "      <th>month</th>\n",
       "      <th>day</th>\n",
       "      <th>hour</th>\n",
       "      <th>working_day</th>\n",
       "      <th>weekend_day</th>\n",
       "      <th>public_holiday</th>\n",
       "    </tr>\n",
       "  </thead>\n",
       "  <tbody>\n",
       "    <tr>\n",
       "      <th>count</th>\n",
       "      <td>14772.000000</td>\n",
       "      <td>14772.000000</td>\n",
       "      <td>14772.000000</td>\n",
       "      <td>14772.000000</td>\n",
       "      <td>14772.000000</td>\n",
       "      <td>14772.000000</td>\n",
       "      <td>14772.000000</td>\n",
       "      <td>14772.000000</td>\n",
       "    </tr>\n",
       "    <tr>\n",
       "      <th>mean</th>\n",
       "      <td>4.255890</td>\n",
       "      <td>2017.143109</td>\n",
       "      <td>6.258327</td>\n",
       "      <td>15.704373</td>\n",
       "      <td>11.499594</td>\n",
       "      <td>0.686637</td>\n",
       "      <td>0.285879</td>\n",
       "      <td>0.040482</td>\n",
       "    </tr>\n",
       "    <tr>\n",
       "      <th>std</th>\n",
       "      <td>5.968123</td>\n",
       "      <td>0.622044</td>\n",
       "      <td>3.657908</td>\n",
       "      <td>8.739027</td>\n",
       "      <td>6.922108</td>\n",
       "      <td>0.463876</td>\n",
       "      <td>0.451847</td>\n",
       "      <td>0.197093</td>\n",
       "    </tr>\n",
       "    <tr>\n",
       "      <th>min</th>\n",
       "      <td>0.000000</td>\n",
       "      <td>2016.000000</td>\n",
       "      <td>1.000000</td>\n",
       "      <td>1.000000</td>\n",
       "      <td>0.000000</td>\n",
       "      <td>0.000000</td>\n",
       "      <td>0.000000</td>\n",
       "      <td>0.000000</td>\n",
       "    </tr>\n",
       "    <tr>\n",
       "      <th>25%</th>\n",
       "      <td>0.000000</td>\n",
       "      <td>2017.000000</td>\n",
       "      <td>3.000000</td>\n",
       "      <td>8.000000</td>\n",
       "      <td>5.750000</td>\n",
       "      <td>0.000000</td>\n",
       "      <td>0.000000</td>\n",
       "      <td>0.000000</td>\n",
       "    </tr>\n",
       "    <tr>\n",
       "      <th>50%</th>\n",
       "      <td>0.000000</td>\n",
       "      <td>2017.000000</td>\n",
       "      <td>6.000000</td>\n",
       "      <td>16.000000</td>\n",
       "      <td>12.000000</td>\n",
       "      <td>1.000000</td>\n",
       "      <td>0.000000</td>\n",
       "      <td>0.000000</td>\n",
       "    </tr>\n",
       "    <tr>\n",
       "      <th>75%</th>\n",
       "      <td>8.000000</td>\n",
       "      <td>2018.000000</td>\n",
       "      <td>10.000000</td>\n",
       "      <td>23.000000</td>\n",
       "      <td>17.000000</td>\n",
       "      <td>1.000000</td>\n",
       "      <td>1.000000</td>\n",
       "      <td>0.000000</td>\n",
       "    </tr>\n",
       "    <tr>\n",
       "      <th>max</th>\n",
       "      <td>35.000000</td>\n",
       "      <td>2018.000000</td>\n",
       "      <td>12.000000</td>\n",
       "      <td>31.000000</td>\n",
       "      <td>23.000000</td>\n",
       "      <td>1.000000</td>\n",
       "      <td>1.000000</td>\n",
       "      <td>1.000000</td>\n",
       "    </tr>\n",
       "  </tbody>\n",
       "</table>\n",
       "</div>"
      ],
      "text/plain": [
       "              count          year         month           day          hour  \\\n",
       "count  14772.000000  14772.000000  14772.000000  14772.000000  14772.000000   \n",
       "mean       4.255890   2017.143109      6.258327     15.704373     11.499594   \n",
       "std        5.968123      0.622044      3.657908      8.739027      6.922108   \n",
       "min        0.000000   2016.000000      1.000000      1.000000      0.000000   \n",
       "25%        0.000000   2017.000000      3.000000      8.000000      5.750000   \n",
       "50%        0.000000   2017.000000      6.000000     16.000000     12.000000   \n",
       "75%        8.000000   2018.000000     10.000000     23.000000     17.000000   \n",
       "max       35.000000   2018.000000     12.000000     31.000000     23.000000   \n",
       "\n",
       "        working_day   weekend_day  public_holiday  \n",
       "count  14772.000000  14772.000000    14772.000000  \n",
       "mean       0.686637      0.285879        0.040482  \n",
       "std        0.463876      0.451847        0.197093  \n",
       "min        0.000000      0.000000        0.000000  \n",
       "25%        0.000000      0.000000        0.000000  \n",
       "50%        1.000000      0.000000        0.000000  \n",
       "75%        1.000000      1.000000        0.000000  \n",
       "max        1.000000      1.000000        1.000000  "
      ]
     },
     "execution_count": 29,
     "metadata": {},
     "output_type": "execute_result"
    }
   ],
   "source": [
    "# sanity check on numerical features: all variables belong to the expected intervals\n",
    "df_data.describe()"
   ]
  },
  {
   "cell_type": "markdown",
   "metadata": {},
   "source": [
    "## Adding more features\n",
    "\n",
    "We will just add the weekday day from the date. Monday is 0 and Sunday is 6."
   ]
  },
  {
   "cell_type": "code",
   "execution_count": 7,
   "metadata": {},
   "outputs": [],
   "source": [
    "df_data['weekday'] = df_data.apply(lambda row: dt(row.year, row.month, row.day).weekday(), axis=1)"
   ]
  },
  {
   "cell_type": "markdown",
   "metadata": {},
   "source": [
    "## Splitting dataset into training and test"
   ]
  },
  {
   "cell_type": "code",
   "execution_count": 8,
   "metadata": {},
   "outputs": [],
   "source": [
    "df_data_train, df_data_test = train_test_split(df_data, test_size=0.2, random_state=42)"
   ]
  },
  {
   "cell_type": "code",
   "execution_count": 9,
   "metadata": {},
   "outputs": [
    {
     "name": "stdout",
     "output_type": "stream",
     "text": [
      "Percentage of instances in the test set: 0.20004061738424045\n"
     ]
    }
   ],
   "source": [
    "print('Percentage of instances in the test set: %s'%(len(df_data_test) / len(df_data)))"
   ]
  },
  {
   "cell_type": "markdown",
   "metadata": {},
   "source": [
    "## Feature pre-analysis \n",
    "\n",
    "We isolate the test set and we perform a pre-analysis on the training dataset features."
   ]
  },
  {
   "cell_type": "markdown",
   "metadata": {},
   "source": [
    "### Hour analysis\n",
    "\n",
    "We observe that for hour < 11 the average count order is almost equal to 0 (the pizza restaurant is closed between 0am and 8am and then between 9am and 11am there are very few orders)."
   ]
  },
  {
   "cell_type": "code",
   "execution_count": 102,
   "metadata": {},
   "outputs": [
    {
     "data": {
      "image/png": "[encoded data removed]",
      "text/plain": [
       "<Figure size 432x288 with 1 Axes>"
      ]
     },
     "metadata": {
      "needs_background": "light"
     },
     "output_type": "display_data"
    }
   ],
   "source": [
    "_ = df_data_train.groupby(by='hour').mean()['count'].plot.bar(rot=0)"
   ]
  },
  {
   "cell_type": "code",
   "execution_count": 59,
   "metadata": {},
   "outputs": [
    {
     "data": {
      "text/plain": [
       "True"
      ]
     },
     "execution_count": 59,
     "metadata": {},
     "output_type": "execute_result"
    }
   ],
   "source": [
    "all(df_data_train[df_data_train['hour'].isin({1, 2, 3, 4, 5, 6, 7, 8})]['count'] == 0)"
   ]
  },
  {
   "cell_type": "code",
   "execution_count": 99,
   "metadata": {},
   "outputs": [
    {
     "data": {
      "text/plain": [
       "5"
      ]
     },
     "execution_count": 99,
     "metadata": {},
     "output_type": "execute_result"
    }
   ],
   "source": [
    "len(df_data_train[(df_data_train['hour'].isin({9, 10})) & (df_data_train['count'] > 0)])"
   ]
  },
  {
   "cell_type": "code",
   "execution_count": 105,
   "metadata": {},
   "outputs": [
    {
     "data": {
      "text/plain": [
       "1.6370967741935485"
      ]
     },
     "execution_count": 105,
     "metadata": {},
     "output_type": "execute_result"
    }
   ],
   "source": [
    "df_data_train[(df_data_train['hour'].isin({11})) & (df_data_train['count'] > 0)]['count'].mean()"
   ]
  },
  {
   "cell_type": "markdown",
   "metadata": {},
   "source": [
    "### Year analysis\n",
    "\n",
    "Since this a forecasting model to be used in the current year, we will not use the year feature as predictor. That being said, we can note that the average number of orders (count) is almost constant among different years."
   ]
  },
  {
   "cell_type": "code",
   "execution_count": 110,
   "metadata": {},
   "outputs": [
    {
     "data": {
      "image/png": "[encoded data removed]",
      "text/plain": [
       "<Figure size 432x288 with 1 Axes>"
      ]
     },
     "metadata": {
      "needs_background": "light"
     },
     "output_type": "display_data"
    }
   ],
   "source": [
    "_ = df_data_train.groupby(by='year').mean()['count'].plot.bar(rot=0)"
   ]
  },
  {
   "cell_type": "markdown",
   "metadata": {},
   "source": [
    "### Month analysis \n",
    "\n",
    "We observe some variability between months regarding the average count of orders. So as to avoid any induced order in the feature, we will consider each month as a categorical variable without any underlying order relation."
   ]
  },
  {
   "cell_type": "code",
   "execution_count": 111,
   "metadata": {},
   "outputs": [
    {
     "data": {
      "image/png": "[encoded data removed]",
      "text/plain": [
       "<Figure size 432x288 with 1 Axes>"
      ]
     },
     "metadata": {
      "needs_background": "light"
     },
     "output_type": "display_data"
    }
   ],
   "source": [
    "_ = df_data_train.groupby(by='month').mean()['count'].plot.bar(rot=0)"
   ]
  },
  {
   "cell_type": "markdown",
   "metadata": {},
   "source": [
    "### Day analysis\n",
    "\n",
    "As observed below the order count per day is quite variable where a certain periodicity is observed. However, this caracteristic is rather explained by the workday/weekend structure of every week since there is not much in common between two days through different months. It is of much more interest to take rather the weekday as a feature. As it can be observed, there is a clear difference between the count of orders depending of the day of the week that explains the observed periodic pattern."
   ]
  },
  {
   "cell_type": "code",
   "execution_count": 112,
   "metadata": {},
   "outputs": [
    {
     "data": {
      "image/png": "[encoded data removed]",
      "text/plain": [
       "<Figure size 432x288 with 1 Axes>"
      ]
     },
     "metadata": {
      "needs_background": "light"
     },
     "output_type": "display_data"
    }
   ],
   "source": [
    "_ = df_data_train.groupby(by='day').mean()['count'].plot.bar(rot=0)"
   ]
  },
  {
   "cell_type": "code",
   "execution_count": 122,
   "metadata": {},
   "outputs": [
    {
     "data": {
      "image/png": "[encoded data removed]",
      "text/plain": [
       "<Figure size 432x288 with 1 Axes>"
      ]
     },
     "metadata": {
      "needs_background": "light"
     },
     "output_type": "display_data"
    }
   ],
   "source": [
    "_ = df_data_train.groupby(by='weekday').mean()['count'].plot.bar(rot=0)"
   ]
  },
  {
   "cell_type": "markdown",
   "metadata": {},
   "source": [
    "### Binary variables: public_holidays, working_day, weekend_day\n",
    "\n",
    "From the boxplots, we observe that each combination of binary variable presents a different\n",
    "average (in order to have a clear boxplot with median > 0 we filter the training instances for which we certainly know that the pizza store was closed). In particular the order count seems to be much larger during non-holidays weekends."
   ]
  },
  {
   "cell_type": "code",
   "execution_count": null,
   "metadata": {},
   "outputs": [],
   "source": [
    "df_data_train_filter_hours = df_data_train[~df_data_train['hour'].isin({1, 2, 3, 4, 5, 6,\n",
    "                                                                        7, 8, 9, 10, 11})]"
   ]
  },
  {
   "cell_type": "code",
   "execution_count": 107,
   "metadata": {},
   "outputs": [
    {
     "data": {
      "image/png": "[encoded data removed]",
      "text/plain": [
       "<Figure size 720x360 with 1 Axes>"
      ]
     },
     "metadata": {
      "needs_background": "light"
     },
     "output_type": "display_data"
    }
   ],
   "source": [
    "# (0, 0, 1) -> public holiday between Monday and Friday\n",
    "# (1, 0, 1) -> public holiday between Saturday and Sunday\n",
    "# (0, 1, 0) -> Working day \n",
    "# (1, 0, 0) -> Not public holiday weekend day \n",
    "_ = df_data_train_filter_hours.boxplot(column='count', by=['weekend_day',\n",
    "                                                           'working_day',\n",
    "                                                           'public_holiday'],\n",
    "                                       figsize=(10, 5))"
   ]
  },
  {
   "cell_type": "markdown",
   "metadata": {},
   "source": [
    "From the above pre-analysis, here below the selected features:"
   ]
  },
  {
   "cell_type": "code",
   "execution_count": 10,
   "metadata": {},
   "outputs": [],
   "source": [
    "selected_features = ['month', 'weekday', 'hour', 'weekend_day', 'working_day', 'public_holiday']"
   ]
  },
  {
   "cell_type": "markdown",
   "metadata": {},
   "source": [
    "## Prediction model"
   ]
  },
  {
   "cell_type": "markdown",
   "metadata": {},
   "source": [
    "Since all the features of our problem are categorical and Sklearn needs continuous numerical values, we encode the labels between zero and the number of levels. Moreover, in order to avoid induced order relations between labels, we use a one-hot-encoding. \n",
    "\n",
    "Three ML models are tested here:\n",
    "\n",
    "* **Linear regression model** with Lasso regularization\n",
    "* **Piecewise linear regression model** with Lasso regularization: We introduce here some prior knowledge about the closing hours of the pizza restaurant by filtering the instances for which hour < 11 and then outputting zero always when hour <= 11.\n",
    "* **Random forest** with a grid search to find the best hyper-parameters.\n",
    "\n",
    "Since this is a regression problem, two score metrics are evaluated for each model: The coefficient of determination R2 and the mean square error (MSE)."
   ]
  },
  {
   "cell_type": "code",
   "execution_count": 11,
   "metadata": {},
   "outputs": [],
   "source": [
    "# drop_first=True:  \n",
    "# Whether to get k-1 dummies out of k categorical levels by removing the first level.\n",
    "X_train = pd.get_dummies(df_data_train[selected_features + ['count']],\n",
    "                         columns=selected_features, drop_first=False) \n",
    "X_test = pd.get_dummies(df_data_test[selected_features + ['count']], \n",
    "                        columns=selected_features, drop_first=False)"
   ]
  },
  {
   "cell_type": "code",
   "execution_count": 194,
   "metadata": {},
   "outputs": [
    {
     "data": {
      "text/html": [
       "<div>\n",
       "<table border=\"1\" class=\"dataframe\">\n",
       "  <thead>\n",
       "    <tr style=\"text-align: right;\">\n",
       "      <th></th>\n",
       "      <th>count</th>\n",
       "      <th>month_1</th>\n",
       "      <th>month_2</th>\n",
       "      <th>month_3</th>\n",
       "      <th>month_4</th>\n",
       "      <th>month_5</th>\n",
       "      <th>month_6</th>\n",
       "      <th>month_7</th>\n",
       "      <th>month_8</th>\n",
       "      <th>month_9</th>\n",
       "      <th>...</th>\n",
       "      <th>hour_20</th>\n",
       "      <th>hour_21</th>\n",
       "      <th>hour_22</th>\n",
       "      <th>hour_23</th>\n",
       "      <th>weekend_day_0</th>\n",
       "      <th>weekend_day_1</th>\n",
       "      <th>working_day_0</th>\n",
       "      <th>working_day_1</th>\n",
       "      <th>public_holiday_0</th>\n",
       "      <th>public_holiday_1</th>\n",
       "    </tr>\n",
       "  </thead>\n",
       "  <tbody>\n",
       "    <tr>\n",
       "      <th>6902</th>\n",
       "      <td>0</td>\n",
       "      <td>0</td>\n",
       "      <td>0</td>\n",
       "      <td>0</td>\n",
       "      <td>0</td>\n",
       "      <td>0</td>\n",
       "      <td>0</td>\n",
       "      <td>1</td>\n",
       "      <td>0</td>\n",
       "      <td>0</td>\n",
       "      <td>...</td>\n",
       "      <td>0</td>\n",
       "      <td>0</td>\n",
       "      <td>0</td>\n",
       "      <td>0</td>\n",
       "      <td>1</td>\n",
       "      <td>0</td>\n",
       "      <td>0</td>\n",
       "      <td>1</td>\n",
       "      <td>1</td>\n",
       "      <td>0</td>\n",
       "    </tr>\n",
       "    <tr>\n",
       "      <th>210</th>\n",
       "      <td>0</td>\n",
       "      <td>0</td>\n",
       "      <td>0</td>\n",
       "      <td>0</td>\n",
       "      <td>0</td>\n",
       "      <td>0</td>\n",
       "      <td>0</td>\n",
       "      <td>0</td>\n",
       "      <td>0</td>\n",
       "      <td>0</td>\n",
       "      <td>...</td>\n",
       "      <td>0</td>\n",
       "      <td>0</td>\n",
       "      <td>0</td>\n",
       "      <td>0</td>\n",
       "      <td>1</td>\n",
       "      <td>0</td>\n",
       "      <td>0</td>\n",
       "      <td>1</td>\n",
       "      <td>1</td>\n",
       "      <td>0</td>\n",
       "    </tr>\n",
       "  </tbody>\n",
       "</table>\n",
       "<p>2 rows × 50 columns</p>\n",
       "</div>"
      ],
      "text/plain": [
       "      count  month_1  month_2  month_3  month_4  month_5  month_6  month_7  \\\n",
       "6902      0        0        0        0        0        0        0        1   \n",
       "210       0        0        0        0        0        0        0        0   \n",
       "\n",
       "      month_8  month_9        ...         hour_20  hour_21  hour_22  hour_23  \\\n",
       "6902        0        0        ...               0        0        0        0   \n",
       "210         0        0        ...               0        0        0        0   \n",
       "\n",
       "      weekend_day_0  weekend_day_1  working_day_0  working_day_1  \\\n",
       "6902              1              0              0              1   \n",
       "210               1              0              0              1   \n",
       "\n",
       "      public_holiday_0  public_holiday_1  \n",
       "6902                 1                 0  \n",
       "210                  1                 0  \n",
       "\n",
       "[2 rows x 50 columns]"
      ]
     },
     "execution_count": 194,
     "metadata": {},
     "output_type": "execute_result"
    }
   ],
   "source": [
    "X_train.head(2)"
   ]
  },
  {
   "cell_type": "code",
   "execution_count": 12,
   "metadata": {},
   "outputs": [],
   "source": [
    "y_train = X_train['count']\n",
    "X_train.drop('count', axis=1, inplace=True)\n",
    "y_test = X_test['count']\n",
    "X_test.drop('count', axis=1, inplace=True)"
   ]
  },
  {
   "cell_type": "code",
   "execution_count": 13,
   "metadata": {},
   "outputs": [],
   "source": [
    "def modelEvaluation(model, input_train, output_train, input_test, output_test):\n",
    "    #Fit the model:       \n",
    "    model.fit(input_train, output_train)\n",
    "  \n",
    "    #Make predictions on train and test datasets:\n",
    "    predictions_train = model.predict(input_train)\n",
    "    predictions_test = model.predict(input_test)\n",
    "  \n",
    "    #Print scoring\n",
    "    r2 = r2_score(output_train, predictions_train)\n",
    "    print (\"Train data scoring (R2): %s\" % \"{0:.3}\".format(r2))\n",
    "    \n",
    "    r2 = r2_score(output_test, predictions_test)\n",
    "    print (\"Test data scoring (R2): %s\" % \"{0:.3}\".format(r2))\n",
    "    \n",
    "    mse = mean_squared_error(output_train, predictions_train)\n",
    "    print (\"Train data scoring (MSE): %s\" % \"{0:.3}\".format(mse))\n",
    "    \n",
    "    mse = mean_squared_error(output_test, predictions_test)\n",
    "    print (\"Test data scoring (MSE): %s\" % \"{0:.3}\".format(mse))"
   ]
  },
  {
   "cell_type": "code",
   "execution_count": 17,
   "metadata": {},
   "outputs": [],
   "source": [
    "class PieceWiseLasso(Lasso):\n",
    "    \n",
    "    def __init__(self, alpha=1.0, fit_intercept=True, normalize=False, precompute=False, copy_X=True,\n",
    "                 max_iter=1000, tol=0.0001, warm_start=False, positive=False, random_state=None,\n",
    "                 selection='cyclic'):\n",
    "        super().__init__(alpha, fit_intercept, normalize, precompute, copy_X, max_iter, tol,\n",
    "                         warm_start, positive, random_state, selection)\n",
    "        \n",
    "        \n",
    "    def predict(self, X):\n",
    "        mask = (X['hour_0'] + X['hour_1'] + X['hour_2'] +\n",
    "                X['hour_3'] + X['hour_4'] + X['hour_5'] +\n",
    "                X['hour_6'] + X['hour_7'] + X['hour_8'] +\n",
    "                X['hour_9'] + X['hour_10'] + X['hour_11'] == 1)\n",
    "        \n",
    "        return super().predict(X) * (1 - mask * 1)\n",
    "    \n",
    "    \n",
    "    def fit(self, X, y):\n",
    "        mask = (X['hour_0'] + X['hour_1'] + X['hour_2'] +\n",
    "                X['hour_3'] + X['hour_4'] + X['hour_5'] +\n",
    "                X['hour_6'] + X['hour_7'] + X['hour_8'] +\n",
    "                X['hour_9'] + X['hour_10'] + X['hour_11'] == 1)\n",
    "        \n",
    "        super().fit(X[~mask], y[~mask])"
   ]
  },
  {
   "cell_type": "markdown",
   "metadata": {},
   "source": [
    "### Linear models"
   ]
  },
  {
   "cell_type": "code",
   "execution_count": 44,
   "metadata": {},
   "outputs": [
    {
     "name": "stdout",
     "output_type": "stream",
     "text": [
      "Train data scoring (R2): 0.722\n",
      "Test data scoring (R2): 0.711\n",
      "Train data scoring (MSE): 9.86\n",
      "Test data scoring (MSE): 10.5\n"
     ]
    }
   ],
   "source": [
    "# Linear regression with Lasso regularization.\n",
    "# We force the coefficients to be positive to improve the coefficient value interpretation\n",
    "lr = Lasso(alpha=0.01, positive=True) \n",
    "modelEvaluation(lr, X_train, y_train, X_test, y_test)"
   ]
  },
  {
   "cell_type": "code",
   "execution_count": 39,
   "metadata": {},
   "outputs": [
    {
     "name": "stdout",
     "output_type": "stream",
     "text": [
      "Train data scoring (R2): 0.762\n",
      "Test data scoring (R2): 0.75\n",
      "Train data scoring (MSE): 8.43\n",
      "Test data scoring (MSE): 9.08\n"
     ]
    }
   ],
   "source": [
    "# Piece-wise linear regression with Lasso regularization \n",
    "# We force the coefficients to be positive to improve the coefficient value interpretation\n",
    "lr = PieceWiseLasso(alpha=0.01, positive=True) \n",
    "modelEvaluation(lr, X_train, y_train, X_test, y_test)"
   ]
  },
  {
   "cell_type": "code",
   "execution_count": 42,
   "metadata": {},
   "outputs": [],
   "source": [
    "sorted_coefs = list(sorted(zip(X_train.columns, lr.coef_), key= lambda element: abs(element[1]),\n",
    "                           reverse=True))\n",
    "col_to_coef = dict(sorted_coefs)"
   ]
  },
  {
   "cell_type": "code",
   "execution_count": 43,
   "metadata": {},
   "outputs": [
    {
     "data": {
      "image/png": "[encoded data removed]",
      "text/plain": [
       "<Figure size 2160x360 with 1 Axes>"
      ]
     },
     "metadata": {
      "needs_background": "light"
     },
     "output_type": "display_data"
    }
   ],
   "source": [
    "# Interpretation: The orders count increase with the hour between 12pm and 19pm . \n",
    "# and then they decrease.\n",
    "\n",
    "col_names = ['hour_12', 'hour_13', 'hour_14', 'hour_15', 'hour_16', 'hour_17', 'hour_18',\n",
    "             'hour_19', 'hour_20', 'hour_21', 'hour_22', 'hour_23']\n",
    "f, ax = plt.subplots(figsize=(30,5))\n",
    "plt.bar(col_names, [col_to_coef[key] for key in col_names])\n",
    "ax.plot(col_names, [0] * len(col_names), \"r--\")\n",
    "plt.yticks(fontsize=28)\n",
    "_ = plt.xticks(fontsize=28, rotation=0)"
   ]
  },
  {
   "cell_type": "code",
   "execution_count": 46,
   "metadata": {},
   "outputs": [
    {
     "data": {
      "image/png": "[encoded data removed]",
      "text/plain": [
       "<Figure size 2160x360 with 1 Axes>"
      ]
     },
     "metadata": {
      "needs_background": "light"
     },
     "output_type": "display_data"
    }
   ],
   "source": [
    "# Interpretation: The months Agust, November and December (winter and summer holidays)\n",
    "# don't have any impact on the average orders. The highest impact is achieved during spring.\n",
    "\n",
    "col_names = ['month_1', 'month_2', 'month_3', 'month_4', 'month_5', 'month_6',\n",
    "             'month_7', 'month_8', 'month_9', 'month_10', 'month_11', 'month_12']\n",
    "f, ax = plt.subplots(figsize=(30,5))\n",
    "plt.bar(col_names, [col_to_coef[key] for key in col_names])\n",
    "ax.plot(col_names, [0] * len(col_names), \"r--\")\n",
    "plt.yticks(fontsize=28)\n",
    "_ = plt.xticks(fontsize=20, rotation=0)"
   ]
  },
  {
   "cell_type": "code",
   "execution_count": 47,
   "metadata": {},
   "outputs": [
    {
     "data": {
      "image/png": "[encoded data removed]",
      "text/plain": [
       "<Figure size 2160x360 with 1 Axes>"
      ]
     },
     "metadata": {
      "needs_background": "light"
     },
     "output_type": "display_data"
    }
   ],
   "source": [
    "# Interpretation: The days with a largest impact on sales are Wednesday, Friday and Saturday.\n",
    "# Monday and Sunday don't seem to have any impact on the average sales.\n",
    "\n",
    "col_names = ['weekday_0', 'weekday_1', 'weekday_2', 'weekday_3', 'weekday_4',\n",
    "             'weekday_5', 'weekday_6']\n",
    "f, ax = plt.subplots(figsize=(30,5))\n",
    "plt.bar(col_names, [col_to_coef[key] for key in col_names])\n",
    "ax.plot(col_names, [0] * len(col_names), \"r--\")\n",
    "plt.yticks(fontsize=28)\n",
    "_ = plt.xticks(fontsize=25, rotation=0)"
   ]
  },
  {
   "cell_type": "code",
   "execution_count": 49,
   "metadata": {},
   "outputs": [
    {
     "data": {
      "image/png": "[encoded data removed]",
      "text/plain": [
       "<Figure size 2160x360 with 1 Axes>"
      ]
     },
     "metadata": {
      "needs_background": "light"
     },
     "output_type": "display_data"
    }
   ],
   "source": [
    "# The highest positive impact on the orders is the fact that the day is not a public holiday.\n",
    "# Then it has a positive impact also not being a working day (because it is a weekend \n",
    "# or a public holiday).\n",
    "\n",
    "col_names = ['weekend_day_1', 'working_day_0', 'public_holiday_0']\n",
    "f, ax = plt.subplots(figsize=(30,5))\n",
    "plt.bar(col_names, [col_to_coef[key] for key in col_names])\n",
    "ax.plot(col_names, [0] * len(col_names), \"r--\")\n",
    "plt.yticks(fontsize=28)\n",
    "_ = plt.xticks(fontsize=25, rotation=0)"
   ]
  },
  {
   "cell_type": "markdown",
   "metadata": {},
   "source": [
    "## Random forest model"
   ]
  },
  {
   "cell_type": "code",
   "execution_count": 259,
   "metadata": {},
   "outputs": [
    {
     "data": {
      "text/plain": [
       "GridSearchCV(cv=5, error_score='raise',\n",
       "       estimator=RandomForestRegressor(bootstrap=True, criterion='mse', max_depth=None,\n",
       "           max_features='auto', max_leaf_nodes=None,\n",
       "           min_impurity_decrease=0.0, min_impurity_split=None,\n",
       "           min_samples_leaf=1, min_samples_split=2,\n",
       "           min_weight_fraction_leaf=0.0, n_estimators=10, n_jobs=1,\n",
       "           oob_score=False, random_state=42, verbose=0, warm_start=False),\n",
       "       fit_params=None, iid=True, n_jobs=1,\n",
       "       param_grid=[{'max_depth': [10, 20, 30], 'n_estimators': [10, 30, 50], 'min_samples_leaf': [10, 20, 30]}],\n",
       "       pre_dispatch='2*n_jobs', refit=True, return_train_score=True,\n",
       "       scoring='explained_variance', verbose=0)"
      ]
     },
     "execution_count": 259,
     "metadata": {},
     "output_type": "execute_result"
    }
   ],
   "source": [
    "# Grid search\n",
    "\n",
    "param_grid = [{'n_estimators': [10, 30, 50], 'max_depth': [10, 20, 30],\n",
    "               'min_samples_leaf': [10, 20, 30]}]\n",
    "rfc = RandomForestRegressor(random_state=42)\n",
    "grid_search = GridSearchCV(rfc, param_grid, cv=5, scoring='explained_variance')\n",
    "grid_search.fit(X_train, y_train)"
   ]
  },
  {
   "cell_type": "code",
   "execution_count": 260,
   "metadata": {},
   "outputs": [
    {
     "data": {
      "text/plain": [
       "{'max_depth': 30, 'min_samples_leaf': 10, 'n_estimators': 30}"
      ]
     },
     "execution_count": 260,
     "metadata": {},
     "output_type": "execute_result"
    }
   ],
   "source": [
    "grid_search.best_params_"
   ]
  },
  {
   "cell_type": "code",
   "execution_count": 52,
   "metadata": {},
   "outputs": [
    {
     "name": "stdout",
     "output_type": "stream",
     "text": [
      "Train data scoring (R2): 0.81\n",
      "Test data scoring (R2): 0.788\n",
      "Train data scoring (MSE): 6.74\n",
      "Test data scoring (MSE): 7.69\n"
     ]
    }
   ],
   "source": [
    "rfc = RandomForestRegressor(random_state=42, max_depth=30, n_estimators=30, min_samples_leaf=10) \n",
    "modelEvaluation(rfc, X_train, y_train, X_test, y_test)"
   ]
  },
  {
   "cell_type": "code",
   "execution_count": 53,
   "metadata": {},
   "outputs": [],
   "source": [
    "sorted_importances = list(sorted(zip(X_train.columns, rfc.feature_importances_),\n",
    "                                 key= lambda element: element[1], reverse=True))\n",
    "cols, coefs = zip(*sorted_importances)"
   ]
  },
  {
   "cell_type": "code",
   "execution_count": 59,
   "metadata": {},
   "outputs": [
    {
     "data": {
      "image/png": "[encoded data removed]",
      "text/plain": [
       "<Figure size 2160x360 with 1 Axes>"
      ]
     },
     "metadata": {
      "needs_background": "light"
     },
     "output_type": "display_data"
    }
   ],
   "source": [
    "# List of features with highest importance\n",
    "# We observe that for the predicting the count of orders the schedule\n",
    "# is the most important predictor. Then the fact if it's Friday or Saturday and finally if \n",
    "# it's a weekend day or not.\n",
    "f, ax = plt.subplots(figsize=(30,5))\n",
    "plt.bar(cols[:13], coefs[:13])\n",
    "plt.yticks(fontsize=28)\n",
    "_ = plt.xticks(fontsize=25, rotation=90)"
   ]
  },
  {
   "cell_type": "markdown",
   "metadata": {},
   "source": [
    "## Conclusion\n",
    "\n",
    "* We tested three models to predict the count of pizza orders. For the three models we take care of selecting the right hyper-parameters to avoid overfitting (measure by a small gap between the training and test set performance)\n",
    "* The model that provides the best results is the random forest. The feature importance analysis also matches with the intuition for this problem.\n",
    "* Also good results where obtained for the piecewise linear regression model where we introduced the prior information about the opening schedules of the pizza store. The analysis of the regression coefficients also match with our intuition.\n",
    "* Even though the random forest regressor reaches the best performance, we recommend the use of the piecewise linear regression model because of its better interpretability.  "
   ]
  },
  {
   "cell_type": "markdown",
   "metadata": {},
   "source": [
    "## Improvements and next steps:\n",
    "\n",
    "* Add a weather feature to model\n",
    "* Introduce the piecewise behaviour to the random forest model too."
   ]
  },
  {
   "cell_type": "code",
   "execution_count": null,
   "metadata": {},
   "outputs": [],
   "source": []
  }
 ],
 "metadata": {
  "kernelspec": {
   "display_name": "Python 3",
   "language": "python",
   "name": "python3"
  },
  "language_info": {
   "codemirror_mode": {
    "name": "ipython",
    "version": 3
   },
   "file_extension": ".py",
   "mimetype": "text/x-python",
   "name": "python",
   "nbconvert_exporter": "python",
   "pygments_lexer": "ipython3",
   "version": "3.5.2"
  }
 },
 "nbformat": 4,
 "nbformat_minor": 4
}
